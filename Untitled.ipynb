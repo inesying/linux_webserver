{
 "cells": [
  {
   "cell_type": "code",
   "execution_count": 1,
   "metadata": {},
   "outputs": [],
   "source": [
    "import docx\n",
    "import os\n",
    "document = docx.Document()\n",
    "def down_file(path):\n",
    "    document.add_paragraph(path)\n",
    "\n",
    "    with open(path,\"r\" ,encoding='UTF-8')as f:\n",
    "        lines=f.readlines()\n",
    "        num=0\n",
    "        for line in lines:\n",
    "            x=\"{}     {}\".format(num,line)\n",
    "            num+=1\n",
    "            document.add_paragraph(x)"
   ]
  },
  {
   "cell_type": "code",
   "execution_count": 2,
   "metadata": {},
   "outputs": [],
   "source": [
    "list=os.listdir(\"./\")"
   ]
  },
  {
   "cell_type": "code",
   "execution_count": 3,
   "metadata": {},
   "outputs": [
    {
     "data": {
      "text/plain": [
       "['./ipynb_checkpoints',\n",
       " './buffer',\n",
       " './config',\n",
       " './http',\n",
       " './log',\n",
       " './main.cpp',\n",
       " './pool',\n",
       " './readme.md',\n",
       " './server',\n",
       " './timer',\n",
       " './Untitled.ipynb']"
      ]
     },
     "execution_count": 3,
     "metadata": {},
     "output_type": "execute_result"
    }
   ],
   "source": [
    "lists=[]\n",
    "for li in list:\n",
    "    lists.append(\"./\"+li.strip(\".\"))\n",
    "lists"
   ]
  },
  {
   "cell_type": "code",
   "execution_count": 4,
   "metadata": {},
   "outputs": [],
   "source": [
    "def get_file(folder_list):\n",
    "    path=[]\n",
    "    if os.path.isdir(folder_list):\n",
    "        path.append(os.listdir(folder_list))\n",
    "        for pa in path:\n",
    "            for q in pa:\n",
    "                x=os.path.join(i,q)\n",
    "\n",
    "                if x[-4:]==\".cpp\":\n",
    "                    print(x)\n",
    "                    down_file(x)\n",
    "                if  x[-2:]==\".h\":\n",
    "                    print(x)\n",
    "                    down_file(x)\n",
    "                if i[-3:]==\".md\":\n",
    "                    down_file(i)\n",
    "                    print(i)\n",
    "                   "
   ]
  },
  {
   "cell_type": "code",
   "execution_count": 5,
   "metadata": {},
   "outputs": [
    {
     "name": "stdout",
     "output_type": "stream",
     "text": [
      "buffer\\buffer.cpp\n",
      "buffer\\buffer.h\n",
      "config\\config.h\n",
      "http\\httpconn.cpp\n",
      "http\\httpconn.h\n",
      "http\\httprequest.cpp\n",
      "http\\httprequest.h\n",
      "http\\httpresponse.cpp\n",
      "http\\httpresponse.h\n",
      "log\\blockqueue.h\n",
      "log\\log.cpp\n",
      "log\\log.h\n",
      "main.cpp\n",
      "pool\\sqlconnpool.cpp\n",
      "pool\\sqlconnpool.h\n",
      "pool\\sqlconnRAII.h\n",
      "pool\\threadpool.h\n",
      "readme.md\n",
      "server\\epoller.cpp\n",
      "server\\epoller.h\n",
      "server\\webserver.cpp\n",
      "server\\webserver.h\n",
      "timer\\heaptimer.cpp\n",
      "timer\\heaptimer.h\n"
     ]
    }
   ],
   "source": [
    "for i in list:\n",
    "    if i[-4:]==\".cpp\":\n",
    "        down_file(i)\n",
    "        print(i)\n",
    "    if i[-2:]==\".h\":\n",
    "        down_file(i)\n",
    "        print(i)\n",
    "    if i[-3:]==\".md\":\n",
    "        down_file(i)\n",
    "        print(i)\n",
    "    else:\n",
    "        get_file(i)"
   ]
  },
  {
   "cell_type": "code",
   "execution_count": 6,
   "metadata": {},
   "outputs": [],
   "source": [
    "path = \"./.docx\"\n",
    "# 保存\n",
    "document.save(path)"
   ]
  },
  {
   "cell_type": "code",
   "execution_count": 7,
   "metadata": {},
   "outputs": [],
   "source": [
    "path = \"./new.docx\"\n",
    "# 保存\n",
    "document.save(path)"
   ]
  },
  {
   "cell_type": "code",
   "execution_count": null,
   "metadata": {},
   "outputs": [],
   "source": []
  }
 ],
 "metadata": {
  "kernelspec": {
   "display_name": "Python 3",
   "language": "python",
   "name": "python3"
  },
  "language_info": {
   "codemirror_mode": {
    "name": "ipython",
    "version": 3
   },
   "file_extension": ".py",
   "mimetype": "text/x-python",
   "name": "python",
   "nbconvert_exporter": "python",
   "pygments_lexer": "ipython3",
   "version": "3.7.1"
  }
 },
 "nbformat": 4,
 "nbformat_minor": 2
}
